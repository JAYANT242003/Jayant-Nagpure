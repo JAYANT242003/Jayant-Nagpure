{
 "cells": [
  {
   "cell_type": "code",
   "execution_count": 1,
   "id": "0c0c007b-26ad-49fa-9831-8d17dd842285",
   "metadata": {},
   "outputs": [],
   "source": [
    "a = \"Jayant\""
   ]
  },
  {
   "cell_type": "code",
   "execution_count": 2,
   "id": "38d09864-d8e2-47bd-97ce-31c043fdda64",
   "metadata": {},
   "outputs": [
    {
     "data": {
      "text/plain": [
       "str"
      ]
     },
     "execution_count": 2,
     "metadata": {},
     "output_type": "execute_result"
    }
   ],
   "source": [
    "type(a)"
   ]
  },
  {
   "cell_type": "code",
   "execution_count": 3,
   "id": "f5cd42d2-e720-4fdd-96dc-764c42bba65f",
   "metadata": {},
   "outputs": [],
   "source": [
    "b = [2,3,4,5,\"Jayant\",\"praveen\", True, 4+7j, 35.44]"
   ]
  },
  {
   "cell_type": "code",
   "execution_count": 4,
   "id": "ccbafffa-7b05-44c9-b0e2-a7f222dbab56",
   "metadata": {},
   "outputs": [
    {
     "data": {
      "text/plain": [
       "list"
      ]
     },
     "execution_count": 4,
     "metadata": {},
     "output_type": "execute_result"
    }
   ],
   "source": [
    "type(b)"
   ]
  },
  {
   "cell_type": "code",
   "execution_count": 5,
   "id": "13825558-00c5-4978-badf-8a9067d4bc0b",
   "metadata": {},
   "outputs": [],
   "source": [
    "c  = 77.98"
   ]
  },
  {
   "cell_type": "code",
   "execution_count": 6,
   "id": "26c1928d-b8e7-4fb1-a2b4-473f949e37f2",
   "metadata": {},
   "outputs": [
    {
     "data": {
      "text/plain": [
       "float"
      ]
     },
     "execution_count": 6,
     "metadata": {},
     "output_type": "execute_result"
    }
   ],
   "source": [
    "type(c)"
   ]
  },
  {
   "cell_type": "code",
   "execution_count": 7,
   "id": "15a610d4-4b16-417e-9c75-b09db8dbe0c4",
   "metadata": {},
   "outputs": [],
   "source": [
    "d = (\"Jayant\",\"praveeen\",\"ayush\")"
   ]
  },
  {
   "cell_type": "code",
   "execution_count": 8,
   "id": "7b60a43d-604b-4474-b6d3-17f29ce3ae16",
   "metadata": {},
   "outputs": [
    {
     "data": {
      "text/plain": [
       "tuple"
      ]
     },
     "execution_count": 8,
     "metadata": {},
     "output_type": "execute_result"
    }
   ],
   "source": [
    "type(d)"
   ]
  },
  {
   "cell_type": "code",
   "execution_count": null,
   "id": "ad0b693e-c98a-456b-b3b7-88ee394d9496",
   "metadata": {},
   "outputs": [],
   "source": []
  },
  {
   "cell_type": "code",
   "execution_count": 9,
   "id": "4b845490-1b6a-4bd9-9807-96c5ee1fd426",
   "metadata": {},
   "outputs": [],
   "source": [
    "var1 = \" \""
   ]
  },
  {
   "cell_type": "code",
   "execution_count": 10,
   "id": "4e5fb34e-0323-4c8a-9bc0-3f3ba6740e17",
   "metadata": {},
   "outputs": [
    {
     "data": {
      "text/plain": [
       "str"
      ]
     },
     "execution_count": 10,
     "metadata": {},
     "output_type": "execute_result"
    }
   ],
   "source": [
    "type(var1)"
   ]
  },
  {
   "cell_type": "code",
   "execution_count": 11,
   "id": "2c68dfa4-684f-4ea0-9cf8-d4eac604b6df",
   "metadata": {},
   "outputs": [],
   "source": [
    "var2 = \"[ DS , ML , Python]\""
   ]
  },
  {
   "cell_type": "code",
   "execution_count": 12,
   "id": "fb03070e-85d0-4c91-9d2b-6944e91bbc38",
   "metadata": {},
   "outputs": [
    {
     "data": {
      "text/plain": [
       "str"
      ]
     },
     "execution_count": 12,
     "metadata": {},
     "output_type": "execute_result"
    }
   ],
   "source": [
    "type(var2)"
   ]
  },
  {
   "cell_type": "code",
   "execution_count": 13,
   "id": "7527925b-fad2-423c-aab0-a9bb854d25f1",
   "metadata": {},
   "outputs": [],
   "source": [
    "var3 = [ \"DS\" , \"ML\" , \"Python\" ]"
   ]
  },
  {
   "cell_type": "code",
   "execution_count": 14,
   "id": "8caee04c-3279-4bb6-a52f-608eb45d3025",
   "metadata": {},
   "outputs": [
    {
     "data": {
      "text/plain": [
       "list"
      ]
     },
     "execution_count": 14,
     "metadata": {},
     "output_type": "execute_result"
    }
   ],
   "source": [
    "type(var3)"
   ]
  },
  {
   "cell_type": "code",
   "execution_count": 15,
   "id": "d40625c2-f061-4f52-ae7e-c3642209b35b",
   "metadata": {},
   "outputs": [],
   "source": [
    "var4 = 1"
   ]
  },
  {
   "cell_type": "code",
   "execution_count": 16,
   "id": "9127444b-e43b-464e-ad01-2ed4087bbaf7",
   "metadata": {},
   "outputs": [
    {
     "data": {
      "text/plain": [
       "int"
      ]
     },
     "execution_count": 16,
     "metadata": {},
     "output_type": "execute_result"
    }
   ],
   "source": [
    "type(var4)"
   ]
  },
  {
   "cell_type": "code",
   "execution_count": null,
   "id": "b23f4d7a-d962-424d-afbd-b2ab9814361b",
   "metadata": {},
   "outputs": [],
   "source": []
  },
  {
   "cell_type": "code",
   "execution_count": null,
   "id": "1ae37a57-0e5e-438a-a602-536c8460898b",
   "metadata": {},
   "outputs": [],
   "source": [
    "/ = It is an arithmatic operation. it also known as division operator. It uses to get quotation of division problem."
   ]
  },
  {
   "cell_type": "code",
   "execution_count": 23,
   "id": "d8844f6b-a05e-4286-a50a-e3c18b00628b",
   "metadata": {},
   "outputs": [],
   "source": [
    "e = 23/7"
   ]
  },
  {
   "cell_type": "code",
   "execution_count": 24,
   "id": "959f29bc-de43-4fbb-bb3c-a3ecbeff642d",
   "metadata": {},
   "outputs": [
    {
     "data": {
      "text/plain": [
       "3.2857142857142856"
      ]
     },
     "execution_count": 24,
     "metadata": {},
     "output_type": "execute_result"
    }
   ],
   "source": [
    "e"
   ]
  },
  {
   "cell_type": "code",
   "execution_count": null,
   "id": "ce666b28-42f4-4b35-abcd-601505a81bcf",
   "metadata": {},
   "outputs": [],
   "source": [
    "% = It is an arithmatic operator. It is also known as modolus operator. It uses to get the remainder of the division problem."
   ]
  },
  {
   "cell_type": "code",
   "execution_count": 21,
   "id": "705db019-55ed-455c-9a97-e436c7af04f6",
   "metadata": {},
   "outputs": [],
   "source": [
    "f = 56 % 6"
   ]
  },
  {
   "cell_type": "code",
   "execution_count": 22,
   "id": "609c1790-8767-4c44-be7f-cd6c614373b4",
   "metadata": {},
   "outputs": [
    {
     "data": {
      "text/plain": [
       "2"
      ]
     },
     "execution_count": 22,
     "metadata": {},
     "output_type": "execute_result"
    }
   ],
   "source": [
    "f"
   ]
  },
  {
   "cell_type": "code",
   "execution_count": null,
   "id": "cbffe31b-7d4d-42ff-885b-af58c0d2bbf7",
   "metadata": {},
   "outputs": [],
   "source": [
    "// = It is an arithmatic operator. It is also known as floor division operation. if we need to return the smallest interger less than or equal to the input."
   ]
  },
  {
   "cell_type": "code",
   "execution_count": 19,
   "id": "d509c7c6-378e-43fb-a001-3351d129c6fc",
   "metadata": {},
   "outputs": [],
   "source": [
    "g = 45 // 7"
   ]
  },
  {
   "cell_type": "code",
   "execution_count": 20,
   "id": "8af193f0-e890-4035-b68d-08d57959ae9d",
   "metadata": {},
   "outputs": [
    {
     "data": {
      "text/plain": [
       "6"
      ]
     },
     "execution_count": 20,
     "metadata": {},
     "output_type": "execute_result"
    }
   ],
   "source": [
    "g"
   ]
  },
  {
   "cell_type": "code",
   "execution_count": null,
   "id": "3ab8e0d6-e617-4926-a762-d2787f638189",
   "metadata": {},
   "outputs": [],
   "source": [
    "** = It is an arithmatic operator. It is also known as exponentiation. The exponent tells the number of times the base is to be multiplied by itself."
   ]
  },
  {
   "cell_type": "code",
   "execution_count": 25,
   "id": "07a456b4-ab42-40d8-98a3-eceb4398ebce",
   "metadata": {},
   "outputs": [],
   "source": [
    "h = 9 ** 9"
   ]
  },
  {
   "cell_type": "code",
   "execution_count": 26,
   "id": "987a7b54-ddf2-4797-aa88-9ac39b5a1663",
   "metadata": {},
   "outputs": [
    {
     "data": {
      "text/plain": [
       "387420489"
      ]
     },
     "execution_count": 26,
     "metadata": {},
     "output_type": "execute_result"
    }
   ],
   "source": [
    "h"
   ]
  },
  {
   "cell_type": "code",
   "execution_count": null,
   "id": "dd1529fc-755c-464b-a38b-7f9880d64a7a",
   "metadata": {},
   "outputs": [],
   "source": []
  },
  {
   "cell_type": "code",
   "execution_count": 27,
   "id": "67aab696-88a1-4ea5-8c2b-554ca96d298e",
   "metadata": {},
   "outputs": [],
   "source": [
    "j = [2,3,4,5,\"Jayant\",\"praveen\", True, False, 89.66, 9+1j]"
   ]
  },
  {
   "cell_type": "code",
   "execution_count": 28,
   "id": "1a2732c6-a1dc-4a63-9417-828831973a14",
   "metadata": {},
   "outputs": [
    {
     "data": {
      "text/plain": [
       "[2, 3, 4, 5, 'Jayant', 'praveen', True, False, 89.66, (9+1j)]"
      ]
     },
     "execution_count": 28,
     "metadata": {},
     "output_type": "execute_result"
    }
   ],
   "source": [
    "j"
   ]
  },
  {
   "cell_type": "code",
   "execution_count": 29,
   "id": "7a26a82c-6a81-4fff-8a42-7e0bb5f49137",
   "metadata": {},
   "outputs": [
    {
     "name": "stdout",
     "output_type": "stream",
     "text": [
      "<class 'int'>\n",
      "2\n",
      "<class 'int'>\n",
      "3\n",
      "<class 'int'>\n",
      "4\n",
      "<class 'int'>\n",
      "5\n",
      "<class 'str'>\n",
      "Jayant\n",
      "<class 'str'>\n",
      "praveen\n",
      "<class 'bool'>\n",
      "True\n",
      "<class 'bool'>\n",
      "False\n",
      "<class 'float'>\n",
      "89.66\n",
      "<class 'complex'>\n",
      "(9+1j)\n"
     ]
    }
   ],
   "source": [
    "for i in j:\n",
    "    print(type(i))\n",
    "    print(i)    "
   ]
  },
  {
   "cell_type": "code",
   "execution_count": null,
   "id": "15b3dec7-a9ae-4ff2-a646-229410e360fc",
   "metadata": {},
   "outputs": [],
   "source": []
  },
  {
   "cell_type": "code",
   "execution_count": null,
   "id": "87aa8c51-9a68-414b-9b02-93ecd066b0db",
   "metadata": {},
   "outputs": [],
   "source": []
  },
  {
   "cell_type": "code",
   "execution_count": 2,
   "id": "fff513fd-368a-4d1d-9cae-140bd1bcc094",
   "metadata": {},
   "outputs": [
    {
     "name": "stdout",
     "output_type": "stream",
     "text": [
      "8 can be divided by 3 exactly 1 times.\n"
     ]
    }
   ],
   "source": [
    "A = 24  \n",
    "B = 3  \n",
    "\n",
    "count = 0  \n",
    "\n",
    "while A % B == 0:\n",
    "    A = A // B  \n",
    "    count += 1  \n",
    "\n",
    "if count > 0:\n",
    "    print(f\"{A} can be divided by {B} exactly {count} times.\")\n",
    "else:\n",
    "    print(f\"{A} is not divisible by {B}.\")\n"
   ]
  },
  {
   "cell_type": "code",
   "execution_count": null,
   "id": "d8abbe95-f4df-4cb7-8e62-4bbb7efc1bf4",
   "metadata": {},
   "outputs": [],
   "source": []
  },
  {
   "cell_type": "code",
   "execution_count": null,
   "id": "59a2c289-471e-49f6-9636-b16363335e2d",
   "metadata": {},
   "outputs": [],
   "source": []
  },
  {
   "cell_type": "code",
   "execution_count": 7,
   "id": "ee56f77e-198e-483b-9d65-c37a0ffbed7b",
   "metadata": {},
   "outputs": [
    {
     "name": "stdout",
     "output_type": "stream",
     "text": [
      "1\n",
      "p is not divisible by 3\n",
      "2\n",
      "p is not divisible by 3\n",
      "45\n",
      "p is divisible by 3\n",
      "6\n",
      "p is divisible by 3\n",
      "8\n",
      "p is not divisible by 3\n",
      "56\n",
      "p is not divisible by 3\n",
      "87\n",
      "p is divisible by 3\n",
      "99\n",
      "p is divisible by 3\n",
      "9\n",
      "p is divisible by 3\n",
      "3\n",
      "p is divisible by 3\n",
      "4\n",
      "p is not divisible by 3\n",
      "86\n",
      "p is not divisible by 3\n",
      "98\n",
      "p is not divisible by 3\n",
      "66\n",
      "p is divisible by 3\n",
      "55\n",
      "p is not divisible by 3\n",
      "11\n",
      "p is not divisible by 3\n",
      "12\n",
      "p is divisible by 3\n",
      "13\n",
      "p is not divisible by 3\n",
      "14\n",
      "p is not divisible by 3\n",
      "21\n",
      "p is divisible by 3\n",
      "22\n",
      "p is not divisible by 3\n",
      "23\n",
      "p is not divisible by 3\n",
      "24\n",
      "p is divisible by 3\n",
      "25\n",
      "p is not divisible by 3\n",
      "31\n",
      "p is not divisible by 3\n"
     ]
    }
   ],
   "source": [
    "p = [1,2,45,6,8,56,87,99,9,3,4,86,98,66,55,11,12,13,14,21,22,23,24,25,31]\n",
    "for i in p:\n",
    "    print(i)\n",
    "    if i % 3 == 0:\n",
    "        print(\"p is divisible by 3\")\n",
    "    else:\n",
    "        print(\"p is not divisible by 3\")"
   ]
  },
  {
   "cell_type": "code",
   "execution_count": null,
   "id": "470de6db-52dc-4a61-bcc6-6ea22fd796db",
   "metadata": {},
   "outputs": [],
   "source": []
  },
  {
   "cell_type": "code",
   "execution_count": null,
   "id": "a558b94b-a0c9-49db-8911-c80be5a525d3",
   "metadata": {},
   "outputs": [],
   "source": []
  },
  {
   "cell_type": "code",
   "execution_count": null,
   "id": "144b1b09-94fd-4f58-b8ae-c8f2ad2f797d",
   "metadata": {},
   "outputs": [],
   "source": [
    "Mutable and immutable are two fundamental properties of data types that describe whether their values can be changed after they are created."
   ]
  },
  {
   "cell_type": "code",
   "execution_count": 8,
   "id": "50d9e4dc-855d-402d-a082-7d2f658782e2",
   "metadata": {},
   "outputs": [],
   "source": [
    "q = [1,2,3,4,5,\"jayant\", 56.99, True, 7+8j]"
   ]
  },
  {
   "cell_type": "code",
   "execution_count": 9,
   "id": "5be797ad-758a-4155-a310-fbfc733b000b",
   "metadata": {},
   "outputs": [
    {
     "data": {
      "text/plain": [
       "list"
      ]
     },
     "execution_count": 9,
     "metadata": {},
     "output_type": "execute_result"
    }
   ],
   "source": [
    "type(p)"
   ]
  },
  {
   "cell_type": "code",
   "execution_count": 10,
   "id": "b70da34b-d8b9-44bc-bb4a-1c0aeb627278",
   "metadata": {},
   "outputs": [
    {
     "data": {
      "text/plain": [
       "56.99"
      ]
     },
     "execution_count": 10,
     "metadata": {},
     "output_type": "execute_result"
    }
   ],
   "source": [
    "q[6]"
   ]
  },
  {
   "cell_type": "code",
   "execution_count": 13,
   "id": "90a27559-5d6f-4737-8c0c-78c53b2177ef",
   "metadata": {},
   "outputs": [],
   "source": [
    "q[5] = 'praveen'"
   ]
  },
  {
   "cell_type": "code",
   "execution_count": 14,
   "id": "ec9d6696-3896-4bd7-ad46-b45618156d74",
   "metadata": {},
   "outputs": [
    {
     "data": {
      "text/plain": [
       "[1, 2, 3, 4, 5, 'praveen', 56.99, True, (7+8j)]"
      ]
     },
     "execution_count": 14,
     "metadata": {},
     "output_type": "execute_result"
    }
   ],
   "source": [
    "q"
   ]
  },
  {
   "cell_type": "code",
   "execution_count": 15,
   "id": "16b54fdd-fd6d-42ae-9c9e-c0e6b3f5478a",
   "metadata": {},
   "outputs": [
    {
     "ename": "NameError",
     "evalue": "name 'c' is not defined",
     "output_type": "error",
     "traceback": [
      "\u001b[0;31m---------------------------------------------------------------------------\u001b[0m",
      "\u001b[0;31mNameError\u001b[0m                                 Traceback (most recent call last)",
      "Cell \u001b[0;32mIn[15], line 1\u001b[0m\n\u001b[0;32m----> 1\u001b[0m q[\u001b[38;5;241m3\u001b[39m] \u001b[38;5;241m=\u001b[39m \u001b[43mc\u001b[49m\n",
      "\u001b[0;31mNameError\u001b[0m: name 'c' is not defined"
     ]
    }
   ],
   "source": [
    "q[3] = c"
   ]
  },
  {
   "cell_type": "code",
   "execution_count": null,
   "id": "f6c2f5c6-c425-4f88-a7d1-22dd754f9a97",
   "metadata": {},
   "outputs": [],
   "source": []
  }
 ],
 "metadata": {
  "kernelspec": {
   "display_name": "Python 3 (ipykernel)",
   "language": "python",
   "name": "python3"
  },
  "language_info": {
   "codemirror_mode": {
    "name": "ipython",
    "version": 3
   },
   "file_extension": ".py",
   "mimetype": "text/x-python",
   "name": "python",
   "nbconvert_exporter": "python",
   "pygments_lexer": "ipython3",
   "version": "3.10.8"
  }
 },
 "nbformat": 4,
 "nbformat_minor": 5
}
